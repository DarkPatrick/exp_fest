{
 "cells": [
  {
   "cell_type": "code",
   "execution_count": 1,
   "metadata": {},
   "outputs": [],
   "source": [
    "import pandas as pd\n",
    "import numpy as np\n",
    "import scipy.stats\n",
    "from matplotlib import pyplot as plt\n",
    "import math"
   ]
  },
  {
   "cell_type": "code",
   "execution_count": 2,
   "metadata": {},
   "outputs": [],
   "source": [
    "df = pd.read_csv('hw1.csv', sep=';', decimal=',', index_col=0)"
   ]
  },
  {
   "cell_type": "code",
   "execution_count": 3,
   "metadata": {
    "scrolled": true
   },
   "outputs": [
    {
     "data": {
      "text/html": [
       "<div>\n",
       "<style scoped>\n",
       "    .dataframe tbody tr th:only-of-type {\n",
       "        vertical-align: middle;\n",
       "    }\n",
       "\n",
       "    .dataframe tbody tr th {\n",
       "        vertical-align: top;\n",
       "    }\n",
       "\n",
       "    .dataframe thead th {\n",
       "        text-align: right;\n",
       "    }\n",
       "</style>\n",
       "<table border=\"1\" class=\"dataframe\">\n",
       "  <thead>\n",
       "    <tr style=\"text-align: right;\">\n",
       "      <th></th>\n",
       "      <th>program_name</th>\n",
       "      <th>performance</th>\n",
       "      <th>is_ege</th>\n",
       "      <th>age</th>\n",
       "    </tr>\n",
       "  </thead>\n",
       "  <tbody>\n",
       "    <tr>\n",
       "      <th>1</th>\n",
       "      <td>math&amp;phys</td>\n",
       "      <td>0.606203</td>\n",
       "      <td>no</td>\n",
       "      <td>17</td>\n",
       "    </tr>\n",
       "    <tr>\n",
       "      <th>2</th>\n",
       "      <td>math&amp;phys</td>\n",
       "      <td>0.648850</td>\n",
       "      <td>yes</td>\n",
       "      <td>18</td>\n",
       "    </tr>\n",
       "    <tr>\n",
       "      <th>3</th>\n",
       "      <td>math&amp;phys</td>\n",
       "      <td>0.729141</td>\n",
       "      <td>no</td>\n",
       "      <td>17</td>\n",
       "    </tr>\n",
       "    <tr>\n",
       "      <th>4</th>\n",
       "      <td>math&amp;phys</td>\n",
       "      <td>0.863283</td>\n",
       "      <td>yes</td>\n",
       "      <td>17</td>\n",
       "    </tr>\n",
       "    <tr>\n",
       "      <th>5</th>\n",
       "      <td>math&amp;phys</td>\n",
       "      <td>0.580673</td>\n",
       "      <td>no</td>\n",
       "      <td>17</td>\n",
       "    </tr>\n",
       "  </tbody>\n",
       "</table>\n",
       "</div>"
      ],
      "text/plain": [
       "  program_name  performance is_ege  age\n",
       "1    math&phys     0.606203     no   17\n",
       "2    math&phys     0.648850    yes   18\n",
       "3    math&phys     0.729141     no   17\n",
       "4    math&phys     0.863283    yes   17\n",
       "5    math&phys     0.580673     no   17"
      ]
     },
     "execution_count": 3,
     "metadata": {},
     "output_type": "execute_result"
    }
   ],
   "source": [
    "df.head()"
   ]
  },
  {
   "cell_type": "code",
   "execution_count": 4,
   "metadata": {},
   "outputs": [],
   "source": [
    "def confidence_interval(series, t=2):\n",
    "    interval = t * np.std(series, ddof=1) / math.sqrt(series.count())\n",
    "    return (round(np.mean(series) - interval, 4), round(np.mean(series) + interval, 4))"
   ]
  },
  {
   "cell_type": "code",
   "execution_count": 5,
   "metadata": {},
   "outputs": [],
   "source": [
    "def mean_confidence_interval(data, confidence=0.95):\n",
    "    a = 1.0 * np.array(data)\n",
    "    n = len(a)\n",
    "    if n == 0:\n",
    "        return\n",
    "    m, se = np.mean(a), scipy.stats.sem(a)\n",
    "    # https://en.wikipedia.org/wiki/Student%27s_t-distribution#Table_of_selected_values\n",
    "    h = se * scipy.stats.t.ppf((1 + confidence) / 2., n - 1)\n",
    "    return (round(m - h, 4), round(m + h, 4))"
   ]
  },
  {
   "cell_type": "code",
   "execution_count": 6,
   "metadata": {},
   "outputs": [],
   "source": [
    "def print_confidence_interval(data, title = ''):\n",
    "    ypos = 0\n",
    "    lines = ['']\n",
    "    for key, value in data.items():\n",
    "        lines.append(key)\n",
    "        ypos = len(lines) - 1\n",
    "        plt.plot(value['ci'], (ypos, ypos), '|-', color='orange', markersize=10)\n",
    "        plt.plot(value['mean'], ypos, 'o', color='orange', markersize=5)\n",
    "    lines.append('')\n",
    "    plt.yticks(range(len(lines)), lines)\n",
    "    plt.title(title)\n",
    "    plt.show()"
   ]
  },
  {
   "cell_type": "code",
   "execution_count": 7,
   "metadata": {},
   "outputs": [
    {
     "data": {
      "text/html": [
       "<div>\n",
       "<style scoped>\n",
       "    .dataframe tbody tr th:only-of-type {\n",
       "        vertical-align: middle;\n",
       "    }\n",
       "\n",
       "    .dataframe tbody tr th {\n",
       "        vertical-align: top;\n",
       "    }\n",
       "\n",
       "    .dataframe thead th {\n",
       "        text-align: right;\n",
       "    }\n",
       "</style>\n",
       "<table border=\"1\" class=\"dataframe\">\n",
       "  <thead>\n",
       "    <tr style=\"text-align: right;\">\n",
       "      <th></th>\n",
       "      <th>program_name</th>\n",
       "      <th>.n</th>\n",
       "      <th>.mu</th>\n",
       "      <th>.var</th>\n",
       "      <th>.sd</th>\n",
       "      <th>.se</th>\n",
       "      <th>.cv</th>\n",
       "      <th>.min</th>\n",
       "      <th>.max</th>\n",
       "      <th>.median</th>\n",
       "      <th>.ci95</th>\n",
       "      <th>.ci95t</th>\n",
       "      <th>.ci99</th>\n",
       "      <th>.ci99t</th>\n",
       "    </tr>\n",
       "  </thead>\n",
       "  <tbody>\n",
       "    <tr>\n",
       "      <th>0</th>\n",
       "      <td>math&amp;phys</td>\n",
       "      <td>10</td>\n",
       "      <td>0.720606</td>\n",
       "      <td>0.015942</td>\n",
       "      <td>0.126262</td>\n",
       "      <td>0.039928</td>\n",
       "      <td>17.521671</td>\n",
       "      <td>0.524715</td>\n",
       "      <td>0.877870</td>\n",
       "      <td>0.740393</td>\n",
       "      <td>(0.6408, 0.8005)</td>\n",
       "      <td>(0.6303, 0.8109)</td>\n",
       "      <td>(0.6008, 0.8404)</td>\n",
       "      <td>(0.5908, 0.8504)</td>\n",
       "    </tr>\n",
       "    <tr>\n",
       "      <th>1</th>\n",
       "      <td>russ&amp;lit</td>\n",
       "      <td>25</td>\n",
       "      <td>0.797763</td>\n",
       "      <td>0.012154</td>\n",
       "      <td>0.110245</td>\n",
       "      <td>0.022049</td>\n",
       "      <td>13.819290</td>\n",
       "      <td>0.605356</td>\n",
       "      <td>0.996762</td>\n",
       "      <td>0.792832</td>\n",
       "      <td>(0.7537, 0.8419)</td>\n",
       "      <td>(0.7523, 0.8433)</td>\n",
       "      <td>(0.7316, 0.8639)</td>\n",
       "      <td>(0.7361, 0.8594)</td>\n",
       "    </tr>\n",
       "  </tbody>\n",
       "</table>\n",
       "</div>"
      ],
      "text/plain": [
       "  program_name  .n       .mu      .var       .sd       .se        .cv  \\\n",
       "0    math&phys  10  0.720606  0.015942  0.126262  0.039928  17.521671   \n",
       "1     russ&lit  25  0.797763  0.012154  0.110245  0.022049  13.819290   \n",
       "\n",
       "       .min      .max   .median             .ci95            .ci95t  \\\n",
       "0  0.524715  0.877870  0.740393  (0.6408, 0.8005)  (0.6303, 0.8109)   \n",
       "1  0.605356  0.996762  0.792832  (0.7537, 0.8419)  (0.7523, 0.8433)   \n",
       "\n",
       "              .ci99            .ci99t  \n",
       "0  (0.6008, 0.8404)  (0.5908, 0.8504)  \n",
       "1  (0.7316, 0.8639)  (0.7361, 0.8594)  "
      ]
     },
     "execution_count": 7,
     "metadata": {},
     "output_type": "execute_result"
    }
   ],
   "source": [
    "df.groupby(by=\"program_name\", as_index=False).performance.agg({\n",
    "    \".n\": \"count\", # размер выборки\n",
    "    \".mu\": \"mean\", # мат. ожидание\n",
    "    \".var\": \"var\", # несмещенная дисперсия\n",
    "    \".sd\": \"std\", # стандартное отклонение\n",
    "    \".se\": \"sem\", # стандартная ошибка\n",
    "    \".cv\": lambda x: np.std(x, ddof=1) / np.mean(x) * 100, # коэффициент вариации\n",
    "    \".min\": \"min\",\n",
    "    \".max\": \"max\",\n",
    "    \".median\": \"median\",\n",
    "    \".ci95\" : lambda x: confidence_interval(x, t=2),\n",
    "    \".ci95t\" : lambda x: mean_confidence_interval(x, confidence=0.95),\n",
    "    \".ci99\" : lambda x: confidence_interval(x, t=3),\n",
    "    \".ci99t\" : lambda x: mean_confidence_interval(x, confidence=0.99),\n",
    "}) "
   ]
  },
  {
   "cell_type": "code",
   "execution_count": 8,
   "metadata": {},
   "outputs": [
    {
     "data": {
      "text/html": [
       "<div>\n",
       "<style scoped>\n",
       "    .dataframe tbody tr th:only-of-type {\n",
       "        vertical-align: middle;\n",
       "    }\n",
       "\n",
       "    .dataframe tbody tr th {\n",
       "        vertical-align: top;\n",
       "    }\n",
       "\n",
       "    .dataframe thead th {\n",
       "        text-align: right;\n",
       "    }\n",
       "</style>\n",
       "<table border=\"1\" class=\"dataframe\">\n",
       "  <thead>\n",
       "    <tr style=\"text-align: right;\">\n",
       "      <th></th>\n",
       "      <th>is_ege</th>\n",
       "      <th>.n</th>\n",
       "      <th>.mu</th>\n",
       "      <th>.var</th>\n",
       "      <th>.sd</th>\n",
       "      <th>.se</th>\n",
       "      <th>.cv</th>\n",
       "      <th>.min</th>\n",
       "      <th>.max</th>\n",
       "      <th>.median</th>\n",
       "      <th>.ci95</th>\n",
       "      <th>.ci95t</th>\n",
       "      <th>.ci99</th>\n",
       "      <th>.ci99t</th>\n",
       "    </tr>\n",
       "  </thead>\n",
       "  <tbody>\n",
       "    <tr>\n",
       "      <th>0</th>\n",
       "      <td>no</td>\n",
       "      <td>25</td>\n",
       "      <td>0.768338</td>\n",
       "      <td>0.016618</td>\n",
       "      <td>0.128912</td>\n",
       "      <td>0.025782</td>\n",
       "      <td>16.777995</td>\n",
       "      <td>0.524715</td>\n",
       "      <td>0.996762</td>\n",
       "      <td>0.752014</td>\n",
       "      <td>(0.7168, 0.8199)</td>\n",
       "      <td>(0.7151, 0.8215)</td>\n",
       "      <td>(0.691, 0.8457)</td>\n",
       "      <td>(0.6962, 0.8404)</td>\n",
       "    </tr>\n",
       "    <tr>\n",
       "      <th>1</th>\n",
       "      <td>yes</td>\n",
       "      <td>10</td>\n",
       "      <td>0.794170</td>\n",
       "      <td>0.008233</td>\n",
       "      <td>0.090735</td>\n",
       "      <td>0.028693</td>\n",
       "      <td>11.425146</td>\n",
       "      <td>0.648850</td>\n",
       "      <td>0.930949</td>\n",
       "      <td>0.780868</td>\n",
       "      <td>(0.7368, 0.8516)</td>\n",
       "      <td>(0.7293, 0.8591)</td>\n",
       "      <td>(0.7081, 0.8802)</td>\n",
       "      <td>(0.7009, 0.8874)</td>\n",
       "    </tr>\n",
       "  </tbody>\n",
       "</table>\n",
       "</div>"
      ],
      "text/plain": [
       "  is_ege  .n       .mu      .var       .sd       .se        .cv      .min  \\\n",
       "0     no  25  0.768338  0.016618  0.128912  0.025782  16.777995  0.524715   \n",
       "1    yes  10  0.794170  0.008233  0.090735  0.028693  11.425146  0.648850   \n",
       "\n",
       "       .max   .median             .ci95            .ci95t             .ci99  \\\n",
       "0  0.996762  0.752014  (0.7168, 0.8199)  (0.7151, 0.8215)   (0.691, 0.8457)   \n",
       "1  0.930949  0.780868  (0.7368, 0.8516)  (0.7293, 0.8591)  (0.7081, 0.8802)   \n",
       "\n",
       "             .ci99t  \n",
       "0  (0.6962, 0.8404)  \n",
       "1  (0.7009, 0.8874)  "
      ]
     },
     "execution_count": 8,
     "metadata": {},
     "output_type": "execute_result"
    }
   ],
   "source": [
    "df.groupby(by=\"is_ege\", as_index=False).performance.agg({\n",
    "    \".n\": \"count\", # размер выборки\n",
    "    \".mu\": \"mean\", # мат. ожидание\n",
    "    \".var\": \"var\", # несмещенная дисперсия\n",
    "    \".sd\": \"std\", # стандартное отклонение\n",
    "    \".se\": \"sem\", # стандартная ошибка\n",
    "    \".cv\": lambda x: np.std(x, ddof=1) / np.mean(x) * 100, # коэффициент вариации\n",
    "    \".min\": \"min\",\n",
    "    \".max\": \"max\",\n",
    "    \".median\": \"median\",\n",
    "    \".ci95\" : lambda x: confidence_interval(x, t=2),\n",
    "    \".ci95t\" : lambda x: mean_confidence_interval(x, confidence=0.95),\n",
    "    \".ci99\" : lambda x: confidence_interval(x, t=3),\n",
    "    \".ci99t\" : lambda x: mean_confidence_interval(x, confidence=0.99),\n",
    "}) "
   ]
  },
  {
   "cell_type": "code",
   "execution_count": 9,
   "metadata": {},
   "outputs": [
    {
     "data": {
      "image/png": "[encoded data removed]",
      "text/plain": [
       "<Figure size 432x288 with 1 Axes>"
      ]
     },
     "metadata": {
      "needs_background": "light"
     },
     "output_type": "display_data"
    }
   ],
   "source": [
    "data = {}\n",
    "for key, group in df.groupby('program_name', as_index=False):\n",
    "    data[key] = {\n",
    "        'mean': group['performance'].mean(),\n",
    "        'ci': confidence_interval(group['performance'], t=2),\n",
    "    }\n",
    "print_confidence_interval(data, '95% confidence interval for performance by programm')"
   ]
  },
  {
   "cell_type": "code",
   "execution_count": 10,
   "metadata": {},
   "outputs": [
    {
     "data": {
      "image/png": "[encoded data removed]",
      "text/plain": [
       "<Figure size 432x288 with 1 Axes>"
      ]
     },
     "metadata": {
      "needs_background": "light"
     },
     "output_type": "display_data"
    }
   ],
   "source": [
    "data = {}\n",
    "for key, group in df.groupby('program_name', as_index=False):\n",
    "    data[key] = {\n",
    "        'mean': group['performance'].mean(),\n",
    "        'ci': confidence_interval(group['performance'], t=3),\n",
    "    }\n",
    "print_confidence_interval(data, '99% confidence interval for performance by programm')"
   ]
  }
 ],
 "metadata": {
  "kernelspec": {
   "display_name": "Python 3",
   "language": "python",
   "name": "python3"
  },
  "language_info": {
   "codemirror_mode": {
    "name": "ipython",
    "version": 3
   },
   "file_extension": ".py",
   "mimetype": "text/x-python",
   "name": "python",
   "nbconvert_exporter": "python",
   "pygments_lexer": "ipython3",
   "version": "3.7.6"
  }
 },
 "nbformat": 4,
 "nbformat_minor": 4
}
