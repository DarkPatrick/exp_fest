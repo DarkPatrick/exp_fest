{
 "cells": [
  {
   "cell_type": "code",
   "execution_count": 1,
   "metadata": {},
   "outputs": [],
   "source": [
    "import math\n",
    "import numpy as np\n",
    "import pandas as pd\n",
    "import matplotlib.pyplot as plt\n",
    "import seaborn as sns\n",
    "from scipy.stats import mannwhitneyu\n",
    "from statsmodels.stats.weightstats import ttest_ind\n",
    "from statsmodels.sandbox.stats.multicomp import multipletests"
   ]
  },
  {
   "cell_type": "code",
   "execution_count": 2,
   "metadata": {},
   "outputs": [],
   "source": [
    "def mean_ci(series):\n",
    "    se = np.std(series, ddof=1) / np.sqrt(series.count())\n",
    "    \n",
    "    return (\n",
    "        round(np.mean(series) - 1.96 * se, 4),\n",
    "        round(np.mean(series) + 1.96 * se, 4)\n",
    "    )"
   ]
  },
  {
   "cell_type": "code",
   "execution_count": 3,
   "metadata": {},
   "outputs": [],
   "source": [
    "def mean_diff_ci(test, control):\n",
    "    test_size = len(test)\n",
    "    cntrl_size = len(control)\n",
    "    \n",
    "    test_var = np.var(test, ddof=1)\n",
    "    cntrl_var = np.var(control, ddof=1)\n",
    "    \n",
    "    sp = np.sqrt((test_var * (test_size - 1) + cntrl_var * (test_var - 1)) / (test_size + cntrl_size - 2))\n",
    "    se = sp * np.sqrt(1 / test_size + 1 / cntrl_size)\n",
    "    \n",
    "    return (\n",
    "        round(test.mean() - control.mean() - 1.96 * se, 4),\n",
    "        round(test.mean() - control.mean() + 1.96 * se, 4)\n",
    "    )"
   ]
  },
  {
   "cell_type": "code",
   "execution_count": 4,
   "metadata": {},
   "outputs": [],
   "source": [
    "def mean_test(test_group, control_group):\n",
    "    t_res = ttest_ind(test_group, control_group, usevar=\"pooled\")\n",
    "    mw_res = mannwhitneyu(test_group, control_group, alternative='two-sided')\n",
    "\n",
    "    print(\"Two Sample t-test\")\n",
    "    print(\"t =\", t_res[0])\n",
    "    print(\"p-value =\", t_res[1])\n",
    "    print(\"df = \", t_res[2])\n",
    "    \n",
    "    print(\"test mean =\", test_group.mean())\n",
    "    print(\"test ci =\", mean_ci(test_group))\n",
    "    \n",
    "    print(\"control mean =\", control_group.mean())\n",
    "    print(\"control ci =\", mean_ci(control_group))\n",
    "    \n",
    "    print(\"ci for diff =\", mean_diff_ci(test_group, control_group))\n",
    "    print()\n",
    "    \n",
    "    print(\"Mann-Whitney rank test\")\n",
    "    print(\"u =\", mw_res[0])\n",
    "    print(\"p-value =\", mw_res[1])\n",
    "    \n",
    "    return [\n",
    "        test_group.mean(), mean_ci(test_group), \n",
    "        control_group.mean(), mean_ci(control_group), \n",
    "        mean_diff_ci(test_group, control_group), t_res[1],\n",
    "    ]"
   ]
  },
  {
   "cell_type": "code",
   "execution_count": 5,
   "metadata": {},
   "outputs": [],
   "source": [
    "df = pd.read_csv('hw4.csv', sep=';', decimal=',', index_col=0)"
   ]
  },
  {
   "cell_type": "code",
   "execution_count": 6,
   "metadata": {},
   "outputs": [
    {
     "data": {
      "text/html": [
       "<div>\n",
       "<style scoped>\n",
       "    .dataframe tbody tr th:only-of-type {\n",
       "        vertical-align: middle;\n",
       "    }\n",
       "\n",
       "    .dataframe tbody tr th {\n",
       "        vertical-align: top;\n",
       "    }\n",
       "\n",
       "    .dataframe thead th {\n",
       "        text-align: right;\n",
       "    }\n",
       "</style>\n",
       "<table border=\"1\" class=\"dataframe\">\n",
       "  <thead>\n",
       "    <tr style=\"text-align: right;\">\n",
       "      <th></th>\n",
       "      <th>purchaseSystem</th>\n",
       "      <th>orderRevenue</th>\n",
       "      <th>experimentVariant</th>\n",
       "    </tr>\n",
       "  </thead>\n",
       "  <tbody>\n",
       "    <tr>\n",
       "      <th>1</th>\n",
       "      <td>Pp</td>\n",
       "      <td>15.99</td>\n",
       "      <td>Treatment</td>\n",
       "    </tr>\n",
       "    <tr>\n",
       "      <th>2</th>\n",
       "      <td>Pp</td>\n",
       "      <td>17.99</td>\n",
       "      <td>Treatment</td>\n",
       "    </tr>\n",
       "    <tr>\n",
       "      <th>3</th>\n",
       "      <td>Pp</td>\n",
       "      <td>15.99</td>\n",
       "      <td>Treatment</td>\n",
       "    </tr>\n",
       "    <tr>\n",
       "      <th>4</th>\n",
       "      <td>Pp</td>\n",
       "      <td>15.99</td>\n",
       "      <td>Treatment</td>\n",
       "    </tr>\n",
       "    <tr>\n",
       "      <th>5</th>\n",
       "      <td>Pp</td>\n",
       "      <td>17.99</td>\n",
       "      <td>Treatment</td>\n",
       "    </tr>\n",
       "  </tbody>\n",
       "</table>\n",
       "</div>"
      ],
      "text/plain": [
       "  purchaseSystem  orderRevenue experimentVariant\n",
       "1             Pp         15.99         Treatment\n",
       "2             Pp         17.99         Treatment\n",
       "3             Pp         15.99         Treatment\n",
       "4             Pp         15.99         Treatment\n",
       "5             Pp         17.99         Treatment"
      ]
     },
     "execution_count": 6,
     "metadata": {},
     "output_type": "execute_result"
    }
   ],
   "source": [
    "df.head()"
   ]
  },
  {
   "cell_type": "code",
   "execution_count": 7,
   "metadata": {},
   "outputs": [
    {
     "data": {
      "text/html": [
       "<div>\n",
       "<style scoped>\n",
       "    .dataframe tbody tr th:only-of-type {\n",
       "        vertical-align: middle;\n",
       "    }\n",
       "\n",
       "    .dataframe tbody tr th {\n",
       "        vertical-align: top;\n",
       "    }\n",
       "\n",
       "    .dataframe thead tr th {\n",
       "        text-align: left;\n",
       "    }\n",
       "\n",
       "    .dataframe thead tr:last-of-type th {\n",
       "        text-align: right;\n",
       "    }\n",
       "</style>\n",
       "<table border=\"1\" class=\"dataframe\">\n",
       "  <thead>\n",
       "    <tr>\n",
       "      <th></th>\n",
       "      <th colspan=\"2\" halign=\"left\">orderRevenue</th>\n",
       "    </tr>\n",
       "    <tr>\n",
       "      <th></th>\n",
       "      <th>count</th>\n",
       "      <th>mean</th>\n",
       "    </tr>\n",
       "    <tr>\n",
       "      <th>experimentVariant</th>\n",
       "      <th></th>\n",
       "      <th></th>\n",
       "    </tr>\n",
       "  </thead>\n",
       "  <tbody>\n",
       "    <tr>\n",
       "      <th>Control</th>\n",
       "      <td>846</td>\n",
       "      <td>17.059740</td>\n",
       "    </tr>\n",
       "    <tr>\n",
       "      <th>Treatment</th>\n",
       "      <td>793</td>\n",
       "      <td>16.972346</td>\n",
       "    </tr>\n",
       "  </tbody>\n",
       "</table>\n",
       "</div>"
      ],
      "text/plain": [
       "                  orderRevenue           \n",
       "                         count       mean\n",
       "experimentVariant                        \n",
       "Control                    846  17.059740\n",
       "Treatment                  793  16.972346"
      ]
     },
     "execution_count": 7,
     "metadata": {},
     "output_type": "execute_result"
    }
   ],
   "source": [
    "df.groupby(['experimentVariant']).agg(['count', 'mean'])"
   ]
  },
  {
   "cell_type": "code",
   "execution_count": 8,
   "metadata": {},
   "outputs": [
    {
     "data": {
      "text/html": [
       "<div>\n",
       "<style scoped>\n",
       "    .dataframe tbody tr th:only-of-type {\n",
       "        vertical-align: middle;\n",
       "    }\n",
       "\n",
       "    .dataframe tbody tr th {\n",
       "        vertical-align: top;\n",
       "    }\n",
       "\n",
       "    .dataframe thead tr th {\n",
       "        text-align: left;\n",
       "    }\n",
       "\n",
       "    .dataframe thead tr:last-of-type th {\n",
       "        text-align: right;\n",
       "    }\n",
       "</style>\n",
       "<table border=\"1\" class=\"dataframe\">\n",
       "  <thead>\n",
       "    <tr>\n",
       "      <th></th>\n",
       "      <th></th>\n",
       "      <th colspan=\"2\" halign=\"left\">orderRevenue</th>\n",
       "    </tr>\n",
       "    <tr>\n",
       "      <th></th>\n",
       "      <th></th>\n",
       "      <th>count</th>\n",
       "      <th>mean</th>\n",
       "    </tr>\n",
       "    <tr>\n",
       "      <th>experimentVariant</th>\n",
       "      <th>purchaseSystem</th>\n",
       "      <th></th>\n",
       "      <th></th>\n",
       "    </tr>\n",
       "  </thead>\n",
       "  <tbody>\n",
       "    <tr>\n",
       "      <th rowspan=\"3\" valign=\"top\">Control</th>\n",
       "      <th>Pp</th>\n",
       "      <td>595</td>\n",
       "      <td>15.988319</td>\n",
       "    </tr>\n",
       "    <tr>\n",
       "      <th>St</th>\n",
       "      <td>121</td>\n",
       "      <td>20.932149</td>\n",
       "    </tr>\n",
       "    <tr>\n",
       "      <th>Yc</th>\n",
       "      <td>130</td>\n",
       "      <td>18.359231</td>\n",
       "    </tr>\n",
       "    <tr>\n",
       "      <th rowspan=\"3\" valign=\"top\">Treatment</th>\n",
       "      <th>Pp</th>\n",
       "      <td>546</td>\n",
       "      <td>16.094396</td>\n",
       "    </tr>\n",
       "    <tr>\n",
       "      <th>St</th>\n",
       "      <td>143</td>\n",
       "      <td>21.843147</td>\n",
       "    </tr>\n",
       "    <tr>\n",
       "      <th>Yc</th>\n",
       "      <td>104</td>\n",
       "      <td>14.884231</td>\n",
       "    </tr>\n",
       "  </tbody>\n",
       "</table>\n",
       "</div>"
      ],
      "text/plain": [
       "                                 orderRevenue           \n",
       "                                        count       mean\n",
       "experimentVariant purchaseSystem                        \n",
       "Control           Pp                      595  15.988319\n",
       "                  St                      121  20.932149\n",
       "                  Yc                      130  18.359231\n",
       "Treatment         Pp                      546  16.094396\n",
       "                  St                      143  21.843147\n",
       "                  Yc                      104  14.884231"
      ]
     },
     "execution_count": 8,
     "metadata": {},
     "output_type": "execute_result"
    }
   ],
   "source": [
    "df.groupby(['experimentVariant', 'purchaseSystem']).agg(['count', 'mean'])"
   ]
  },
  {
   "cell_type": "code",
   "execution_count": 9,
   "metadata": {},
   "outputs": [
    {
     "data": {
      "image/png": "[encoded data removed]",
      "text/plain": [
       "<Figure size 432x288 with 1 Axes>"
      ]
     },
     "metadata": {
      "needs_background": "light"
     },
     "output_type": "display_data"
    }
   ],
   "source": [
    "ax = sns.boxplot(x=\"orderRevenue\", y=\"experimentVariant\", data=df)"
   ]
  },
  {
   "cell_type": "code",
   "execution_count": 10,
   "metadata": {},
   "outputs": [
    {
     "data": {
      "image/png": "[encoded data removed]",
      "text/plain": [
       "<Figure size 432x288 with 1 Axes>"
      ]
     },
     "metadata": {
      "needs_background": "light"
     },
     "output_type": "display_data"
    }
   ],
   "source": [
    "ax = sns.boxplot(x=\"orderRevenue\", y=\"experimentVariant\", hue=\"purchaseSystem\", data=df)"
   ]
  },
  {
   "cell_type": "code",
   "execution_count": 11,
   "metadata": {},
   "outputs": [
    {
     "name": "stdout",
     "output_type": "stream",
     "text": [
      "Two Sample t-test\n",
      "t = -0.5454665321607903\n",
      "p-value = 0.5855070058877427\n",
      "df =  1637.0\n",
      "test mean = 16.972345523328947\n",
      "test ci = (16.7357, 17.209)\n",
      "control mean = 17.05973995271849\n",
      "control ci = (16.8518, 17.2676)\n",
      "ci for diff = (-0.3178, 0.143)\n",
      "\n",
      "Mann-Whitney rank test\n",
      "u = 331950.5\n",
      "p-value = 0.7141016723544875\n"
     ]
    }
   ],
   "source": [
    "_ = mean_test(\n",
    "    df[df['experimentVariant'] == 'Treatment']['orderRevenue'],\n",
    "    df[df['experimentVariant'] == 'Control']['orderRevenue']\n",
    ")"
   ]
  },
  {
   "cell_type": "code",
   "execution_count": 12,
   "metadata": {},
   "outputs": [],
   "source": [
    "result = pd.DataFrame(columns=[\n",
    "    'test', 'control', 'test_mean', 'test_ci', 'control_mean', 'control_ci', 'mean_diff_ci', 'p_value'\n",
    "])"
   ]
  },
  {
   "cell_type": "code",
   "execution_count": 13,
   "metadata": {},
   "outputs": [],
   "source": [
    "%%capture\n",
    "t = df[(df['experimentVariant'] == 'Treatment') & (df['purchaseSystem'] == 'Pp')]['orderRevenue']\n",
    "c = df[(df['experimentVariant'] == 'Control') & (df['purchaseSystem'] == 'Pp')]['orderRevenue']\n",
    "result.loc[0] = ['Pp', 'Pp'] + list(mean_test(t, c))"
   ]
  },
  {
   "cell_type": "code",
   "execution_count": 14,
   "metadata": {},
   "outputs": [],
   "source": [
    "%%capture\n",
    "t = df[(df['experimentVariant'] == 'Treatment') & (df['purchaseSystem'] == 'St')]['orderRevenue']\n",
    "c = df[(df['experimentVariant'] == 'Control') & (df['purchaseSystem'] == 'St')]['orderRevenue']\n",
    "result.loc[1] = ['St', 'St'] + mean_test(t, c)"
   ]
  },
  {
   "cell_type": "code",
   "execution_count": 15,
   "metadata": {},
   "outputs": [],
   "source": [
    "%%capture\n",
    "t = df[(df['experimentVariant'] == 'Treatment') & (df['purchaseSystem'] == 'Yc')]['orderRevenue']\n",
    "c = df[(df['experimentVariant'] == 'Control') & (df['purchaseSystem'] == 'Yc')]['orderRevenue']\n",
    "result.loc[2] = ['Yc', 'Yc'] + mean_test(t, c)"
   ]
  },
  {
   "cell_type": "code",
   "execution_count": 16,
   "metadata": {},
   "outputs": [],
   "source": [
    "result = result.sort_values(by=\"p_value\")"
   ]
  },
  {
   "cell_type": "code",
   "execution_count": 17,
   "metadata": {},
   "outputs": [],
   "source": [
    "# коррекция Бонферонни: оптимизация FWER\n",
    "_, bonferroni_p, _, _ = multipletests(result.p_value, method='bonferroni')\n",
    "result[\"bonferroni_p\"] = bonferroni_p"
   ]
  },
  {
   "cell_type": "code",
   "execution_count": 18,
   "metadata": {},
   "outputs": [],
   "source": [
    "# коррекция Холма: более мощная поправка, чем Бонферонни\n",
    "_, holm_p, _, _ = multipletests(result.p_value, method='holm')\n",
    "result[\"holm_p\"] = holm_p"
   ]
  },
  {
   "cell_type": "code",
   "execution_count": 19,
   "metadata": {},
   "outputs": [],
   "source": [
    "# коррекция Бенджамини-Хохберга: коррекция FDR, самая мощная из представленных поправок\n",
    "_, bh_p, _, _ = multipletests(result.p_value, method='fdr_bh')\n",
    "result[\"bh_p\"] = bh_p"
   ]
  },
  {
   "cell_type": "code",
   "execution_count": 20,
   "metadata": {},
   "outputs": [
    {
     "data": {
      "text/html": [
       "<div>\n",
       "<style scoped>\n",
       "    .dataframe tbody tr th:only-of-type {\n",
       "        vertical-align: middle;\n",
       "    }\n",
       "\n",
       "    .dataframe tbody tr th {\n",
       "        vertical-align: top;\n",
       "    }\n",
       "\n",
       "    .dataframe thead th {\n",
       "        text-align: right;\n",
       "    }\n",
       "</style>\n",
       "<table border=\"1\" class=\"dataframe\">\n",
       "  <thead>\n",
       "    <tr style=\"text-align: right;\">\n",
       "      <th></th>\n",
       "      <th>test</th>\n",
       "      <th>control</th>\n",
       "      <th>test_mean</th>\n",
       "      <th>test_ci</th>\n",
       "      <th>control_mean</th>\n",
       "      <th>control_ci</th>\n",
       "      <th>mean_diff_ci</th>\n",
       "      <th>p_value</th>\n",
       "      <th>bonferroni_p</th>\n",
       "      <th>holm_p</th>\n",
       "      <th>bh_p</th>\n",
       "    </tr>\n",
       "  </thead>\n",
       "  <tbody>\n",
       "    <tr>\n",
       "      <th>2</th>\n",
       "      <td>Yc</td>\n",
       "      <td>Yc</td>\n",
       "      <td>14.884231</td>\n",
       "      <td>(14.051, 15.7174)</td>\n",
       "      <td>18.359231</td>\n",
       "      <td>(17.6905, 19.028)</td>\n",
       "      <td>(-4.27, -2.68)</td>\n",
       "      <td>6.356119e-10</td>\n",
       "      <td>1.906836e-09</td>\n",
       "      <td>1.906836e-09</td>\n",
       "      <td>1.906836e-09</td>\n",
       "    </tr>\n",
       "    <tr>\n",
       "      <th>1</th>\n",
       "      <td>St</td>\n",
       "      <td>St</td>\n",
       "      <td>21.843147</td>\n",
       "      <td>(21.4615, 22.2248)</td>\n",
       "      <td>20.932149</td>\n",
       "      <td>(20.4853, 21.379)</td>\n",
       "      <td>(0.4886, 1.3334)</td>\n",
       "      <td>2.463201e-03</td>\n",
       "      <td>7.389603e-03</td>\n",
       "      <td>4.926402e-03</td>\n",
       "      <td>3.694801e-03</td>\n",
       "    </tr>\n",
       "    <tr>\n",
       "      <th>0</th>\n",
       "      <td>Pp</td>\n",
       "      <td>Pp</td>\n",
       "      <td>16.094396</td>\n",
       "      <td>(15.9264, 16.2624)</td>\n",
       "      <td>15.988319</td>\n",
       "      <td>(15.8196, 16.157)</td>\n",
       "      <td>(-0.0553, 0.2674)</td>\n",
       "      <td>3.836418e-01</td>\n",
       "      <td>1.000000e+00</td>\n",
       "      <td>3.836418e-01</td>\n",
       "      <td>3.836418e-01</td>\n",
       "    </tr>\n",
       "  </tbody>\n",
       "</table>\n",
       "</div>"
      ],
      "text/plain": [
       "  test control  test_mean             test_ci  control_mean  \\\n",
       "2   Yc      Yc  14.884231   (14.051, 15.7174)     18.359231   \n",
       "1   St      St  21.843147  (21.4615, 22.2248)     20.932149   \n",
       "0   Pp      Pp  16.094396  (15.9264, 16.2624)     15.988319   \n",
       "\n",
       "          control_ci       mean_diff_ci       p_value  bonferroni_p  \\\n",
       "2  (17.6905, 19.028)     (-4.27, -2.68)  6.356119e-10  1.906836e-09   \n",
       "1  (20.4853, 21.379)   (0.4886, 1.3334)  2.463201e-03  7.389603e-03   \n",
       "0  (15.8196, 16.157)  (-0.0553, 0.2674)  3.836418e-01  1.000000e+00   \n",
       "\n",
       "         holm_p          bh_p  \n",
       "2  1.906836e-09  1.906836e-09  \n",
       "1  4.926402e-03  3.694801e-03  \n",
       "0  3.836418e-01  3.836418e-01  "
      ]
     },
     "execution_count": 20,
     "metadata": {},
     "output_type": "execute_result"
    }
   ],
   "source": [
    "result"
   ]
  }
 ],
 "metadata": {
  "kernelspec": {
   "display_name": "Python 3",
   "language": "python",
   "name": "python3"
  },
  "language_info": {
   "codemirror_mode": {
    "name": "ipython",
    "version": 3
   },
   "file_extension": ".py",
   "mimetype": "text/x-python",
   "name": "python",
   "nbconvert_exporter": "python",
   "pygments_lexer": "ipython3",
   "version": "3.7.6"
  }
 },
 "nbformat": 4,
 "nbformat_minor": 4
}
