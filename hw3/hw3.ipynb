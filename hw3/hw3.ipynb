{
 "cells": [
  {
   "cell_type": "code",
   "execution_count": 1,
   "metadata": {},
   "outputs": [],
   "source": [
    "import math\n",
    "import numpy as np\n",
    "import pandas as pd\n",
    "import statsmodels.stats.power as smp\n",
    "import matplotlib.pyplot as plt\n",
    "import seaborn as sns\n",
    "plt.style.use('ggplot')"
   ]
  },
  {
   "cell_type": "code",
   "execution_count": 2,
   "metadata": {},
   "outputs": [],
   "source": [
    "def zt_sample_size(p_control, lift, alpha, power):\n",
    "    p_test = p_control * lift\n",
    "    \n",
    "    h = 2 * math.asin(np.sqrt(p_control)) - 2 * math.asin(np.sqrt(p_test))\n",
    "    \n",
    "    nobs = smp.zt_ind_solve_power(effect_size = h, alpha = alpha, power = power, alternative='two-sided')\n",
    "    \n",
    "    return math.ceil(nobs)"
   ]
  },
  {
   "cell_type": "code",
   "execution_count": 3,
   "metadata": {},
   "outputs": [
    {
     "name": "stdout",
     "output_type": "stream",
     "text": [
      "Sample size for each variat: 6687\n"
     ]
    }
   ],
   "source": [
    "alpha = 0.05\n",
    "power = 0.8\n",
    "p_control = 0.1\n",
    "lift = 1.15\n",
    "\n",
    "sample_size = zt_sample_size(p_control, lift, alpha, power)\n",
    "print('Sample size for each variat:', sample_size)"
   ]
  },
  {
   "cell_type": "code",
   "execution_count": 4,
   "metadata": {},
   "outputs": [],
   "source": [
    "df = pd.read_csv('hw3.csv', sep=';', decimal=',', index_col=0)"
   ]
  },
  {
   "cell_type": "code",
   "execution_count": 5,
   "metadata": {},
   "outputs": [],
   "source": [
    "df['invert_p_value'] = 1 - df['p_value']"
   ]
  },
  {
   "cell_type": "code",
   "execution_count": 6,
   "metadata": {},
   "outputs": [
    {
     "data": {
      "text/html": [
       "<div>\n",
       "<style scoped>\n",
       "    .dataframe tbody tr th:only-of-type {\n",
       "        vertical-align: middle;\n",
       "    }\n",
       "\n",
       "    .dataframe tbody tr th {\n",
       "        vertical-align: top;\n",
       "    }\n",
       "\n",
       "    .dataframe thead th {\n",
       "        text-align: right;\n",
       "    }\n",
       "</style>\n",
       "<table border=\"1\" class=\"dataframe\">\n",
       "  <thead>\n",
       "    <tr style=\"text-align: right;\">\n",
       "      <th></th>\n",
       "      <th>date</th>\n",
       "      <th>p_value</th>\n",
       "      <th>lift</th>\n",
       "      <th>users</th>\n",
       "      <th>invert_p_value</th>\n",
       "    </tr>\n",
       "  </thead>\n",
       "  <tbody>\n",
       "    <tr>\n",
       "      <th>1</th>\n",
       "      <td>2020-02-01</td>\n",
       "      <td>0.40515</td>\n",
       "      <td>0.214387</td>\n",
       "      <td>731</td>\n",
       "      <td>0.59485</td>\n",
       "    </tr>\n",
       "    <tr>\n",
       "      <th>2</th>\n",
       "      <td>2020-02-02</td>\n",
       "      <td>0.31880</td>\n",
       "      <td>0.183620</td>\n",
       "      <td>1461</td>\n",
       "      <td>0.68120</td>\n",
       "    </tr>\n",
       "    <tr>\n",
       "      <th>3</th>\n",
       "      <td>2020-02-03</td>\n",
       "      <td>0.55553</td>\n",
       "      <td>0.082944</td>\n",
       "      <td>2285</td>\n",
       "      <td>0.44447</td>\n",
       "    </tr>\n",
       "    <tr>\n",
       "      <th>4</th>\n",
       "      <td>2020-02-04</td>\n",
       "      <td>0.52978</td>\n",
       "      <td>0.075370</td>\n",
       "      <td>3068</td>\n",
       "      <td>0.47022</td>\n",
       "    </tr>\n",
       "    <tr>\n",
       "      <th>5</th>\n",
       "      <td>2020-02-05</td>\n",
       "      <td>0.93192</td>\n",
       "      <td>0.012945</td>\n",
       "      <td>3909</td>\n",
       "      <td>0.06808</td>\n",
       "    </tr>\n",
       "    <tr>\n",
       "      <th>6</th>\n",
       "      <td>2020-02-06</td>\n",
       "      <td>0.65626</td>\n",
       "      <td>0.042951</td>\n",
       "      <td>4694</td>\n",
       "      <td>0.34374</td>\n",
       "    </tr>\n",
       "    <tr>\n",
       "      <th>7</th>\n",
       "      <td>2020-02-07</td>\n",
       "      <td>0.14631</td>\n",
       "      <td>0.123388</td>\n",
       "      <td>5476</td>\n",
       "      <td>0.85369</td>\n",
       "    </tr>\n",
       "    <tr>\n",
       "      <th>8</th>\n",
       "      <td>2020-02-08</td>\n",
       "      <td>0.27433</td>\n",
       "      <td>0.084926</td>\n",
       "      <td>6280</td>\n",
       "      <td>0.72567</td>\n",
       "    </tr>\n",
       "    <tr>\n",
       "      <th>9</th>\n",
       "      <td>2020-02-09</td>\n",
       "      <td>0.17989</td>\n",
       "      <td>0.097907</td>\n",
       "      <td>7090</td>\n",
       "      <td>0.82011</td>\n",
       "    </tr>\n",
       "    <tr>\n",
       "      <th>10</th>\n",
       "      <td>2020-02-10</td>\n",
       "      <td>0.24195</td>\n",
       "      <td>0.080293</td>\n",
       "      <td>7899</td>\n",
       "      <td>0.75805</td>\n",
       "    </tr>\n",
       "    <tr>\n",
       "      <th>11</th>\n",
       "      <td>2020-02-11</td>\n",
       "      <td>0.23558</td>\n",
       "      <td>0.077136</td>\n",
       "      <td>8646</td>\n",
       "      <td>0.76442</td>\n",
       "    </tr>\n",
       "    <tr>\n",
       "      <th>12</th>\n",
       "      <td>2020-02-12</td>\n",
       "      <td>0.19727</td>\n",
       "      <td>0.080121</td>\n",
       "      <td>9468</td>\n",
       "      <td>0.80273</td>\n",
       "    </tr>\n",
       "    <tr>\n",
       "      <th>13</th>\n",
       "      <td>2020-02-13</td>\n",
       "      <td>0.09274</td>\n",
       "      <td>0.100582</td>\n",
       "      <td>10315</td>\n",
       "      <td>0.90726</td>\n",
       "    </tr>\n",
       "  </tbody>\n",
       "</table>\n",
       "</div>"
      ],
      "text/plain": [
       "          date  p_value      lift  users  invert_p_value\n",
       "1   2020-02-01  0.40515  0.214387    731         0.59485\n",
       "2   2020-02-02  0.31880  0.183620   1461         0.68120\n",
       "3   2020-02-03  0.55553  0.082944   2285         0.44447\n",
       "4   2020-02-04  0.52978  0.075370   3068         0.47022\n",
       "5   2020-02-05  0.93192  0.012945   3909         0.06808\n",
       "6   2020-02-06  0.65626  0.042951   4694         0.34374\n",
       "7   2020-02-07  0.14631  0.123388   5476         0.85369\n",
       "8   2020-02-08  0.27433  0.084926   6280         0.72567\n",
       "9   2020-02-09  0.17989  0.097907   7090         0.82011\n",
       "10  2020-02-10  0.24195  0.080293   7899         0.75805\n",
       "11  2020-02-11  0.23558  0.077136   8646         0.76442\n",
       "12  2020-02-12  0.19727  0.080121   9468         0.80273\n",
       "13  2020-02-13  0.09274  0.100582  10315         0.90726"
      ]
     },
     "execution_count": 6,
     "metadata": {},
     "output_type": "execute_result"
    }
   ],
   "source": [
    "df"
   ]
  },
  {
   "cell_type": "code",
   "execution_count": 7,
   "metadata": {},
   "outputs": [
    {
     "data": {
      "image/png": "[encoded data removed]",
      "text/plain": [
       "<Figure size 432x288 with 1 Axes>"
      ]
     },
     "metadata": {},
     "output_type": "display_data"
    }
   ],
   "source": [
    "viz = sns.lineplot(x=\"users\", y=\"invert_p_value\", data=df)\n",
    "sns.lineplot(x=\"users\", y=\"lift\", data=df)\n",
    "viz.set_xlabel(\"Observation (n)\")\n",
    "viz.set_ylabel(\"1 - p-value\")\n",
    "viz.axhline(y=1-alpha, color=\"black\", linestyle=\":\")\n",
    "viz.axvline(sample_size, 0, 1, color=\"green\", linestyle=\"--\")\n",
    "plt.show()"
   ]
  },
  {
   "cell_type": "code",
   "execution_count": 8,
   "metadata": {},
   "outputs": [
    {
     "data": {
      "text/plain": [
       "0.03900949108784965"
      ]
     },
     "execution_count": 8,
     "metadata": {},
     "output_type": "execute_result"
    }
   ],
   "source": [
    "# не очень понятно, как, исходя из effect_size, рассчитанному по последнему дню эксперимента,\n",
    "# получить mde, который мы смогли бы обнаружить на последний день проведения эксперимента\n",
    "\n",
    "effect_size = smp.zt_ind_solve_power(\n",
    "    alpha = alpha,\n",
    "    power = power,\n",
    "    nobs1 = df.tail(1)[\"users\"],\n",
    "    alternative='two-sided'\n",
    ")\n",
    "\n",
    "effect_size"
   ]
  },
  {
   "cell_type": "code",
   "execution_count": 9,
   "metadata": {},
   "outputs": [
    {
     "data": {
      "text/plain": [
       "10323"
      ]
     },
     "execution_count": 9,
     "metadata": {},
     "output_type": "execute_result"
    }
   ],
   "source": [
    "# mde на последний день проведения эксперимента\n",
    "#(полученный sample_size равен кол-ву наблюдений в тестовой группе)\n",
    "\n",
    "zt_sample_size(p_control, 1.12, alpha, power)"
   ]
  },
  {
   "cell_type": "code",
   "execution_count": 10,
   "metadata": {},
   "outputs": [
    {
     "data": {
      "text/plain": [
       "14745"
      ]
     },
     "execution_count": 10,
     "metadata": {},
     "output_type": "execute_result"
    }
   ],
   "source": [
    "# какое кол-во пользователей необходимо набрать в каждую группу для наблюдения mde=10%\n",
    "# 10% -- lift последнего дня проведения теста\n",
    "\n",
    "zt_sample_size(p_control, 1.10, alpha, power)"
   ]
  }
 ],
 "metadata": {
  "kernelspec": {
   "display_name": "Python 3",
   "language": "python",
   "name": "python3"
  },
  "language_info": {
   "codemirror_mode": {
    "name": "ipython",
    "version": 3
   },
   "file_extension": ".py",
   "mimetype": "text/x-python",
   "name": "python",
   "nbconvert_exporter": "python",
   "pygments_lexer": "ipython3",
   "version": "3.7.6"
  }
 },
 "nbformat": 4,
 "nbformat_minor": 4
}
