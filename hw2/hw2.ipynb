{
 "cells": [
  {
   "cell_type": "code",
   "execution_count": 1,
   "metadata": {},
   "outputs": [],
   "source": [
    "import pandas as pd\n",
    "import numpy as np\n",
    "from scipy.stats import mannwhitneyu\n",
    "from statsmodels.stats.proportion import proportions_ztest\n",
    "from statsmodels.stats.weightstats import ttest_ind\n",
    "import seaborn as sns"
   ]
  },
  {
   "cell_type": "code",
   "execution_count": 2,
   "metadata": {},
   "outputs": [],
   "source": [
    "def proportion_ci(series):\n",
    "    series_size = len(series)\n",
    "    p_series = series.sum() / series_size\n",
    "    \n",
    "    se = np.sqrt(p_series * (1 - p_series) / series_size)\n",
    "    \n",
    "    return (p_series - 1.96 * se, p_series + 1.96 * se)"
   ]
  },
  {
   "cell_type": "code",
   "execution_count": 3,
   "metadata": {},
   "outputs": [],
   "source": [
    "def proportion_diff_ci(test, control):\n",
    "    test_size = len(test)\n",
    "    cntrl_size = len(control)\n",
    "    \n",
    "    p_test_est = test.sum() / test_size\n",
    "    p_cntrl_est = control.sum() / cntrl_size\n",
    "    \n",
    "    se = np.sqrt(p_cntrl_est * (1 - p_cntrl_est) / cntrl_size + p_test_est * (1 - p_test_est) / test_size)\n",
    "    \n",
    "    return (p_test_est - p_cntrl_est - 1.96 * se, p_test_est - p_cntrl_est + 1.96 * se)"
   ]
  },
  {
   "cell_type": "code",
   "execution_count": 4,
   "metadata": {},
   "outputs": [],
   "source": [
    "def mean_ci(series):\n",
    "    se = np.std(series, ddof=1) / np.sqrt(series.count())\n",
    "    \n",
    "    return (np.mean(series) - 1.96 * se, np.mean(series) + 1.96 * se)"
   ]
  },
  {
   "cell_type": "code",
   "execution_count": 5,
   "metadata": {},
   "outputs": [],
   "source": [
    "def mean_diff_ci(test, control):\n",
    "    test_size = len(test)\n",
    "    cntrl_size = len(control)\n",
    "    \n",
    "    test_var = np.var(test, ddof=1)\n",
    "    cntrl_var = np.var(control, ddof=1)\n",
    "    \n",
    "    sp = np.sqrt((test_var * (test_size - 1) + cntrl_var * (test_var - 1)) / (test_size + cntrl_size - 2))\n",
    "    se = sp * np.sqrt(1 / test_size + 1 / cntrl_size)\n",
    "    \n",
    "    return (test.mean() - control.mean() - 1.96 * se, test.mean() - control.mean() + 1.96 * se)"
   ]
  },
  {
   "cell_type": "code",
   "execution_count": 6,
   "metadata": {},
   "outputs": [],
   "source": [
    "def proportion_test(test_group, control_group):\n",
    "    stat, pval = proportions_ztest(\n",
    "        [test_group.sum(), control_group.sum()],\n",
    "        [len(test_group),len(control_group)]\n",
    "    )\n",
    "\n",
    "    print(\"2-sample test for equality of proportions\")\n",
    "    print(\"test statistic =\", stat)\n",
    "    print(\"p-value =\", pval)\n",
    "    \n",
    "    print(\"test conversion =\", test_group.sum() / len(test_group))\n",
    "    print(\"test ci =\", proportion_ci(test_group))\n",
    "    \n",
    "    print(\"control conversion =\", control_group.sum() / len(control_group))\n",
    "    print(\"control ci =\", proportion_ci(control_group))\n",
    "    \n",
    "    print(\"ci for diff =\", proportion_diff_ci(test_group, control_group))"
   ]
  },
  {
   "cell_type": "code",
   "execution_count": 7,
   "metadata": {},
   "outputs": [],
   "source": [
    "def mean_test(test_group, control_group):\n",
    "    t_res = ttest_ind(test_group, control_group, usevar=\"pooled\")\n",
    "    mw_res = mannwhitneyu(test_group, control_group, alternative='two-sided')\n",
    "\n",
    "    print(\"Two Sample t-test\")\n",
    "    print(\"t =\", t_res[0])\n",
    "    print(\"p-value =\", t_res[1])\n",
    "    print(\"df = \", t_res[2])\n",
    "    \n",
    "    print(\"test mean =\", test_group.mean())\n",
    "    print(\"test ci =\", mean_ci(test_group))\n",
    "    \n",
    "    print(\"control mean =\", control_group.mean())\n",
    "    print(\"control ci =\", mean_ci(control_group))\n",
    "    \n",
    "    print(\"ci for diff =\", mean_diff_ci(test_group, control_group))\n",
    "    print()\n",
    "    \n",
    "    print(\"Mann-Whitney rank test\")\n",
    "    print(\"u =\", mw_res[0])\n",
    "    print(\"p-value =\", mw_res[1])"
   ]
  },
  {
   "cell_type": "markdown",
   "metadata": {},
   "source": [
    "### Загрузка данных"
   ]
  },
  {
   "cell_type": "code",
   "execution_count": 8,
   "metadata": {},
   "outputs": [],
   "source": [
    "df = pd.read_csv('hw2_1.csv', sep=';', decimal=',', index_col=0)"
   ]
  },
  {
   "cell_type": "code",
   "execution_count": 9,
   "metadata": {},
   "outputs": [
    {
     "data": {
      "text/html": [
       "<div>\n",
       "<style scoped>\n",
       "    .dataframe tbody tr th:only-of-type {\n",
       "        vertical-align: middle;\n",
       "    }\n",
       "\n",
       "    .dataframe tbody tr th {\n",
       "        vertical-align: top;\n",
       "    }\n",
       "\n",
       "    .dataframe thead th {\n",
       "        text-align: right;\n",
       "    }\n",
       "</style>\n",
       "<table border=\"1\" class=\"dataframe\">\n",
       "  <thead>\n",
       "    <tr style=\"text-align: right;\">\n",
       "      <th></th>\n",
       "      <th>date</th>\n",
       "      <th>deviceCategory</th>\n",
       "      <th>sourceMedium</th>\n",
       "      <th>experimentVariant</th>\n",
       "      <th>clickButtonOnMain</th>\n",
       "      <th>sessionDuration</th>\n",
       "    </tr>\n",
       "  </thead>\n",
       "  <tbody>\n",
       "    <tr>\n",
       "      <th>1</th>\n",
       "      <td>2019-11-27</td>\n",
       "      <td>desktop</td>\n",
       "      <td>(direct) / (none)</td>\n",
       "      <td>control</td>\n",
       "      <td>1</td>\n",
       "      <td>123.109765</td>\n",
       "    </tr>\n",
       "    <tr>\n",
       "      <th>2</th>\n",
       "      <td>2019-11-27</td>\n",
       "      <td>mobile</td>\n",
       "      <td>maz.com / referral</td>\n",
       "      <td>test</td>\n",
       "      <td>1</td>\n",
       "      <td>135.604001</td>\n",
       "    </tr>\n",
       "    <tr>\n",
       "      <th>3</th>\n",
       "      <td>2019-11-27</td>\n",
       "      <td>mobile</td>\n",
       "      <td>(direct) / (none)</td>\n",
       "      <td>test</td>\n",
       "      <td>1</td>\n",
       "      <td>134.451017</td>\n",
       "    </tr>\n",
       "    <tr>\n",
       "      <th>4</th>\n",
       "      <td>2019-11-27</td>\n",
       "      <td>desktop</td>\n",
       "      <td>google / organic</td>\n",
       "      <td>test</td>\n",
       "      <td>1</td>\n",
       "      <td>130.691087</td>\n",
       "    </tr>\n",
       "    <tr>\n",
       "      <th>5</th>\n",
       "      <td>2019-11-27</td>\n",
       "      <td>mobile</td>\n",
       "      <td>google / organic</td>\n",
       "      <td>control</td>\n",
       "      <td>1</td>\n",
       "      <td>117.617311</td>\n",
       "    </tr>\n",
       "  </tbody>\n",
       "</table>\n",
       "</div>"
      ],
      "text/plain": [
       "         date deviceCategory        sourceMedium experimentVariant  \\\n",
       "1  2019-11-27        desktop   (direct) / (none)           control   \n",
       "2  2019-11-27         mobile  maz.com / referral              test   \n",
       "3  2019-11-27         mobile   (direct) / (none)              test   \n",
       "4  2019-11-27        desktop    google / organic              test   \n",
       "5  2019-11-27         mobile    google / organic           control   \n",
       "\n",
       "   clickButtonOnMain  sessionDuration  \n",
       "1                  1       123.109765  \n",
       "2                  1       135.604001  \n",
       "3                  1       134.451017  \n",
       "4                  1       130.691087  \n",
       "5                  1       117.617311  "
      ]
     },
     "execution_count": 9,
     "metadata": {},
     "output_type": "execute_result"
    }
   ],
   "source": [
    "df.head()"
   ]
  },
  {
   "cell_type": "markdown",
   "metadata": {},
   "source": [
    "### Оцениваем метрики в разрезе группы теста и устройства"
   ]
  },
  {
   "cell_type": "code",
   "execution_count": 10,
   "metadata": {},
   "outputs": [
    {
     "data": {
      "text/html": [
       "<div>\n",
       "<style scoped>\n",
       "    .dataframe tbody tr th:only-of-type {\n",
       "        vertical-align: middle;\n",
       "    }\n",
       "\n",
       "    .dataframe tbody tr th {\n",
       "        vertical-align: top;\n",
       "    }\n",
       "\n",
       "    .dataframe thead th {\n",
       "        text-align: right;\n",
       "    }\n",
       "</style>\n",
       "<table border=\"1\" class=\"dataframe\">\n",
       "  <thead>\n",
       "    <tr style=\"text-align: right;\">\n",
       "      <th></th>\n",
       "      <th>experimentVariant</th>\n",
       "      <th>date</th>\n",
       "      <th>clickButtonOnMain</th>\n",
       "      <th>sessionDuration</th>\n",
       "    </tr>\n",
       "  </thead>\n",
       "  <tbody>\n",
       "    <tr>\n",
       "      <th>0</th>\n",
       "      <td>control</td>\n",
       "      <td>1485</td>\n",
       "      <td>(192, 0.1293)</td>\n",
       "      <td>120.038040</td>\n",
       "    </tr>\n",
       "    <tr>\n",
       "      <th>1</th>\n",
       "      <td>test</td>\n",
       "      <td>1458</td>\n",
       "      <td>(133, 0.0912)</td>\n",
       "      <td>133.059223</td>\n",
       "    </tr>\n",
       "  </tbody>\n",
       "</table>\n",
       "</div>"
      ],
      "text/plain": [
       "  experimentVariant  date clickButtonOnMain  sessionDuration\n",
       "0           control  1485     (192, 0.1293)       120.038040\n",
       "1              test  1458     (133, 0.0912)       133.059223"
      ]
     },
     "execution_count": 10,
     "metadata": {},
     "output_type": "execute_result"
    }
   ],
   "source": [
    "df.groupby(by='experimentVariant', as_index=False).agg({\n",
    "    'date': 'count',\n",
    "    'clickButtonOnMain': lambda x: (x.sum(), round(x.sum() / x.count() if x.count() > 0 else 1, 4)),\n",
    "    'sessionDuration': 'mean',\n",
    "})"
   ]
  },
  {
   "cell_type": "code",
   "execution_count": 11,
   "metadata": {},
   "outputs": [
    {
     "data": {
      "text/html": [
       "<div>\n",
       "<style scoped>\n",
       "    .dataframe tbody tr th:only-of-type {\n",
       "        vertical-align: middle;\n",
       "    }\n",
       "\n",
       "    .dataframe tbody tr th {\n",
       "        vertical-align: top;\n",
       "    }\n",
       "\n",
       "    .dataframe thead th {\n",
       "        text-align: right;\n",
       "    }\n",
       "</style>\n",
       "<table border=\"1\" class=\"dataframe\">\n",
       "  <thead>\n",
       "    <tr style=\"text-align: right;\">\n",
       "      <th></th>\n",
       "      <th>experimentVariant</th>\n",
       "      <th>deviceCategory</th>\n",
       "      <th>date</th>\n",
       "      <th>clickButtonOnMain</th>\n",
       "      <th>sessionDuration</th>\n",
       "    </tr>\n",
       "  </thead>\n",
       "  <tbody>\n",
       "    <tr>\n",
       "      <th>0</th>\n",
       "      <td>control</td>\n",
       "      <td>desktop</td>\n",
       "      <td>562</td>\n",
       "      <td>(69, 0.1228)</td>\n",
       "      <td>119.850321</td>\n",
       "    </tr>\n",
       "    <tr>\n",
       "      <th>1</th>\n",
       "      <td>control</td>\n",
       "      <td>mobile</td>\n",
       "      <td>857</td>\n",
       "      <td>(111, 0.1295)</td>\n",
       "      <td>120.217158</td>\n",
       "    </tr>\n",
       "    <tr>\n",
       "      <th>2</th>\n",
       "      <td>control</td>\n",
       "      <td>tablet</td>\n",
       "      <td>66</td>\n",
       "      <td>(12, 0.1818)</td>\n",
       "      <td>119.310662</td>\n",
       "    </tr>\n",
       "    <tr>\n",
       "      <th>3</th>\n",
       "      <td>test</td>\n",
       "      <td>desktop</td>\n",
       "      <td>507</td>\n",
       "      <td>(51, 0.1006)</td>\n",
       "      <td>133.410753</td>\n",
       "    </tr>\n",
       "    <tr>\n",
       "      <th>4</th>\n",
       "      <td>test</td>\n",
       "      <td>mobile</td>\n",
       "      <td>885</td>\n",
       "      <td>(73, 0.0825)</td>\n",
       "      <td>132.890708</td>\n",
       "    </tr>\n",
       "    <tr>\n",
       "      <th>5</th>\n",
       "      <td>test</td>\n",
       "      <td>tablet</td>\n",
       "      <td>66</td>\n",
       "      <td>(9, 0.1364)</td>\n",
       "      <td>132.618459</td>\n",
       "    </tr>\n",
       "  </tbody>\n",
       "</table>\n",
       "</div>"
      ],
      "text/plain": [
       "  experimentVariant deviceCategory  date clickButtonOnMain  sessionDuration\n",
       "0           control        desktop   562      (69, 0.1228)       119.850321\n",
       "1           control         mobile   857     (111, 0.1295)       120.217158\n",
       "2           control         tablet    66      (12, 0.1818)       119.310662\n",
       "3              test        desktop   507      (51, 0.1006)       133.410753\n",
       "4              test         mobile   885      (73, 0.0825)       132.890708\n",
       "5              test         tablet    66       (9, 0.1364)       132.618459"
      ]
     },
     "execution_count": 11,
     "metadata": {},
     "output_type": "execute_result"
    }
   ],
   "source": [
    "df.groupby(by=['experimentVariant', 'deviceCategory'], as_index=False).agg({\n",
    "    'date': 'count',\n",
    "    'clickButtonOnMain': lambda x: (x.sum(), round(x.sum() / x.count() if x.count() > 0 else 1, 4)),\n",
    "    'sessionDuration': 'mean',\n",
    "})"
   ]
  },
  {
   "cell_type": "markdown",
   "metadata": {},
   "source": [
    "### Конверсия в отправку формы на всех платформах"
   ]
  },
  {
   "cell_type": "code",
   "execution_count": 12,
   "metadata": {},
   "outputs": [
    {
     "name": "stdout",
     "output_type": "stream",
     "text": [
      "2-sample test for equality of proportions\n",
      "test statistic = -3.294710114036112\n",
      "p-value = 0.0009852325829367897\n",
      "test conversion = 0.09122085048010974\n",
      "test ci = (0.07644156136368165, 0.10600013959653783)\n",
      "control conversion = 0.1292929292929293\n",
      "control ci = (0.11222753733250257, 0.14635832125335602)\n",
      "ci for diff = (-0.06064761844202814, -0.015496539183610977)\n"
     ]
    }
   ],
   "source": [
    "proportion_test(\n",
    "    df[df['experimentVariant'] == 'test']['clickButtonOnMain'],\n",
    "    df[df['experimentVariant'] == 'control']['clickButtonOnMain']\n",
    ")"
   ]
  },
  {
   "cell_type": "markdown",
   "metadata": {},
   "source": [
    "### Конверсия в отправку формы на desktop"
   ]
  },
  {
   "cell_type": "code",
   "execution_count": 13,
   "metadata": {},
   "outputs": [
    {
     "name": "stdout",
     "output_type": "stream",
     "text": [
      "2-sample test for equality of proportions\n",
      "test statistic = -1.1473047093588644\n",
      "p-value = 0.2512557083508541\n",
      "test conversion = 0.10059171597633136\n",
      "test ci = (0.07440918405219962, 0.1267742479004631)\n",
      "control conversion = 0.12277580071174377\n",
      "control ci = (0.09564268899270595, 0.14990891243078158)\n",
      "ci for diff = (-0.059889929501389536, 0.015521760030564727)\n"
     ]
    }
   ],
   "source": [
    "proportion_test(\n",
    "    df[(df['experimentVariant'] == 'test') & (df['deviceCategory'] == 'desktop')]['clickButtonOnMain'],\n",
    "    df[(df['experimentVariant'] == 'control') & (df['deviceCategory'] == 'desktop')]['clickButtonOnMain']\n",
    ")"
   ]
  },
  {
   "cell_type": "markdown",
   "metadata": {},
   "source": [
    "### Конверсия в отправку формы на mobile"
   ]
  },
  {
   "cell_type": "code",
   "execution_count": 14,
   "metadata": {},
   "outputs": [
    {
     "name": "stdout",
     "output_type": "stream",
     "text": [
      "2-sample test for equality of proportions\n",
      "test statistic = -3.1931638123472808\n",
      "p-value = 0.001407230913915559\n",
      "test conversion = 0.08248587570621468\n",
      "test ci = (0.06436076741577745, 0.10061098399665191)\n",
      "control conversion = 0.1295215869311552\n",
      "control ci = (0.10704058092728708, 0.15200259293502333)\n",
      "ci for diff = (-0.07591330083152006, -0.01815812161836097)\n"
     ]
    }
   ],
   "source": [
    "proportion_test(\n",
    "    df[(df['experimentVariant'] == 'test') & (df['deviceCategory'] == 'mobile')]['clickButtonOnMain'],\n",
    "    df[(df['experimentVariant'] == 'control') & (df['deviceCategory'] == 'mobile')]['clickButtonOnMain']\n",
    ")"
   ]
  },
  {
   "cell_type": "markdown",
   "metadata": {},
   "source": [
    "### Среднее время сессии на всех платформах"
   ]
  },
  {
   "cell_type": "code",
   "execution_count": 15,
   "metadata": {},
   "outputs": [
    {
     "name": "stdout",
     "output_type": "stream",
     "text": [
      "Two Sample t-test\n",
      "t = 45.53106041092407\n",
      "p-value = 0.0\n",
      "df =  2941.0\n",
      "test mean = 133.05922272430436\n",
      "test ci = (132.56131825826859, 133.55712719034014)\n",
      "control mean = 120.03803959554634\n",
      "control ci = (119.7743992285828, 120.30167996250988)\n",
      "ci for diff = (12.523347149096146, 13.519019108419904)\n",
      "\n",
      "Mann-Whitney rank test\n",
      "u = 1905573.0\n",
      "p-value = 2.8172887000279137e-279\n"
     ]
    }
   ],
   "source": [
    "mean_test(\n",
    "    df[df['experimentVariant'] == 'test']['sessionDuration'],\n",
    "    df[df['experimentVariant'] == 'control']['sessionDuration']\n",
    ")"
   ]
  },
  {
   "cell_type": "markdown",
   "metadata": {},
   "source": [
    "### Среднее время сессии на desktop"
   ]
  },
  {
   "cell_type": "code",
   "execution_count": 16,
   "metadata": {},
   "outputs": [
    {
     "name": "stdout",
     "output_type": "stream",
     "text": [
      "Two Sample t-test\n",
      "t = 28.644042593380306\n",
      "p-value = 2.5731879556011454e-134\n",
      "df =  1067.0\n",
      "test mean = 133.41075258021323\n",
      "test ci = (132.55424763559262, 134.26725752483384)\n",
      "control mean = 119.85032132221411\n",
      "control ci = (119.42638665043624, 120.27425599399199)\n",
      "ci for diff = (12.726303681200454, 14.394558834797772)\n",
      "\n",
      "Mann-Whitney rank test\n",
      "u = 251692.0\n",
      "p-value = 3.9901693702571807e-104\n"
     ]
    }
   ],
   "source": [
    "mean_test(\n",
    "    df[(df['experimentVariant'] == 'test') & (df['deviceCategory'] == 'desktop')]['sessionDuration'],\n",
    "    df[(df['experimentVariant'] == 'control') & (df['deviceCategory'] == 'desktop')]['sessionDuration']\n",
    ")"
   ]
  },
  {
   "cell_type": "markdown",
   "metadata": {},
   "source": [
    "### Среднее время сессии на mobile"
   ]
  },
  {
   "cell_type": "code",
   "execution_count": 17,
   "metadata": {},
   "outputs": [
    {
     "name": "stdout",
     "output_type": "stream",
     "text": [
      "Two Sample t-test\n",
      "t = 33.718641725017214\n",
      "p-value = 3.09009035154426e-192\n",
      "df =  1740.0\n",
      "test mean = 132.89070832353067\n",
      "test ci = (132.2512545694792, 133.53016207758216)\n",
      "control mean = 120.2171581593434\n",
      "control ci = (119.86448275459774, 120.56983356408905)\n",
      "ci for diff = (12.01371533833574, 13.333384990038812)\n",
      "\n",
      "Mann-Whitney rank test\n",
      "u = 663248.0\n",
      "p-value = 2.870742082664026e-161\n"
     ]
    }
   ],
   "source": [
    "mean_test(\n",
    "    df[(df['experimentVariant'] == 'test') & (df['deviceCategory'] == 'mobile')]['sessionDuration'],\n",
    "    df[(df['experimentVariant'] == 'control') & (df['deviceCategory'] == 'mobile')]['sessionDuration']\n",
    ")"
   ]
  },
  {
   "cell_type": "markdown",
   "metadata": {},
   "source": [
    "### Визуализируем выбросы среднего времени сессии"
   ]
  },
  {
   "cell_type": "code",
   "execution_count": 18,
   "metadata": {},
   "outputs": [
    {
     "data": {
      "text/plain": [
       "array([102.340016  , 116.52925836, 133.11172799, 145.79631552,\n",
       "       149.02544637, 154.43514212, 163.63065065])"
      ]
     },
     "execution_count": 18,
     "metadata": {},
     "output_type": "execute_result"
    }
   ],
   "source": [
    "np.percentile(df[df['experimentVariant'] == 'test']['sessionDuration'], [0, 5, 50, 90, 95, 99, 100])"
   ]
  },
  {
   "cell_type": "code",
   "execution_count": 19,
   "metadata": {},
   "outputs": [
    {
     "data": {
      "text/plain": [
       "array([100.23800079, 111.27872931, 120.1164634 , 126.55409244,\n",
       "       128.34423387, 131.55242547, 134.80609643])"
      ]
     },
     "execution_count": 19,
     "metadata": {},
     "output_type": "execute_result"
    }
   ],
   "source": [
    "np.percentile(df[df['experimentVariant'] == 'control']['sessionDuration'], [0, 5, 50, 90, 95, 99, 100])"
   ]
  },
  {
   "cell_type": "code",
   "execution_count": 20,
   "metadata": {},
   "outputs": [
    {
     "data": {
      "image/png": "[encoded data removed]",
      "text/plain": [
       "<Figure size 432x288 with 1 Axes>"
      ]
     },
     "metadata": {
      "needs_background": "light"
     },
     "output_type": "display_data"
    }
   ],
   "source": [
    "ax = sns.boxplot(x=\"sessionDuration\", y=\"experimentVariant\", data=df)"
   ]
  },
  {
   "cell_type": "code",
   "execution_count": 21,
   "metadata": {},
   "outputs": [
    {
     "data": {
      "image/png": "[encoded data removed]",
      "text/plain": [
       "<Figure size 432x288 with 1 Axes>"
      ]
     },
     "metadata": {
      "needs_background": "light"
     },
     "output_type": "display_data"
    }
   ],
   "source": [
    "ax = sns.boxplot(x=\"sessionDuration\", y=\"experimentVariant\", hue=\"deviceCategory\", data=df)"
   ]
  }
 ],
 "metadata": {
  "kernelspec": {
   "display_name": "Python 3",
   "language": "python",
   "name": "python3"
  },
  "language_info": {
   "codemirror_mode": {
    "name": "ipython",
    "version": 3
   },
   "file_extension": ".py",
   "mimetype": "text/x-python",
   "name": "python",
   "nbconvert_exporter": "python",
   "pygments_lexer": "ipython3",
   "version": "3.7.6"
  }
 },
 "nbformat": 4,
 "nbformat_minor": 4
}
